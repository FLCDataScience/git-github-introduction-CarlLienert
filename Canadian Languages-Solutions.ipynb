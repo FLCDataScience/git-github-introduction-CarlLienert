{
 "cells": [
  {
   "cell_type": "code",
   "execution_count": 3,
   "id": "bf53f836-512e-4719-b1ca-a130d350b949",
   "metadata": {
    "tags": []
   },
   "outputs": [],
   "source": [
    "from IPython.display import HTML, display\n",
    "\n",
    "def bgc(color, cell=None):\n",
    "    script = (\n",
    "        \"var cell = this.closest('.jp-CodeCell');\"\n",
    "        \"var editor = cell.querySelector('.jp-Editor');\"\n",
    "        \"editor.style.background='{}';\"\n",
    "        \"this.parentNode.removeChild(this)\"\n",
    "    ).format(color)\n",
    "\n",
    "    display(HTML('<img src onerror=\"{}\">'.format(script)))"
   ]
  },
  {
   "cell_type": "markdown",
   "id": "1b96ff6d",
   "metadata": {},
   "source": [
    "Topics in this notebook:\n",
    "\n",
    "* loading data from Github\n",
    "* fitlering\n",
    "* selecting\n",
    "* bar plots\n",
    "* interpretation"
   ]
  },
  {
   "cell_type": "markdown",
   "id": "88aacdef",
   "metadata": {},
   "source": [
    "We'll borrow from several different Open Educational Resource (OER) in this course.  We'll use Python in this course; a good OER reference for Python is *Python for Data Analysis*:\n",
    "\n",
    "https://wesmckinney.com/book/\n",
    "\n",
    "Some of the resources have nice data sets and activities.  If the OER was written with the language R in mind, we'll follow the activities, and adapt using Python.\n",
    "\n",
    "The first example we'll consider is from *Data Science: A First Introduction* (DSAFI):\n",
    "\n",
    "https://datasciencebook.ca/\n",
    "\n"
   ]
  },
  {
   "cell_type": "markdown",
   "id": "c21b8ad9",
   "metadata": {},
   "source": [
    "# Data\n",
    "Read sections [1.3 and 1.4](https://datasciencebook.ca/intro.html#overview) in DSAFI."
   ]
  },
  {
   "cell_type": "markdown",
   "id": "158d9a48",
   "metadata": {},
   "source": [
    "#### Question 1: \n",
    "\n",
    "> What is a *domain expert*? \n",
    "\n",
    "> A word about your contribution to these notebooks: Following queue for you to answer a question, provide code, etc. will be one or more (almost) empty cells.  Please use these cells for your answer.  Each cell has a little formating to help us read your answers - please leave that formating in place."
   ]
  },
  {
   "cell_type": "markdown",
   "id": "a9936a32-2a06-41a6-97c0-26249b68a5d2",
   "metadata": {},
   "source": [
    "#### Answer:\n",
    "\n",
    "<div class=\"alert alert-block alert-info\"><font color=black>\n",
    "\n",
    "Double click on this cell. Delete these sentences  and put your answer here.  But leave the code before and after.\n",
    "    \n",
    "    \n",
    "</font>  \n",
    "</div>"
   ]
  },
  {
   "cell_type": "markdown",
   "id": "2c44ba70",
   "metadata": {},
   "source": [
    "#### Question 2:\n",
    "\n",
    "Thinking of the Canadian Languages example, what knowledge would the appropriate *domain expert* possess?"
   ]
  },
  {
   "cell_type": "markdown",
   "id": "ab41375c-f301-42c8-8698-c6a6d5463bfd",
   "metadata": {},
   "source": [
    "#### Answer:\n",
    "\n",
    "<div class=\"alert alert-block alert-info\"><font color=black>\n",
    "\n",
    "    \n",
    "Answer here...\n",
    "    \n",
    "</font>  \n",
    "</div>"
   ]
  },
  {
   "cell_type": "markdown",
   "id": "5d3dfafb",
   "metadata": {},
   "source": [
    "# Loading data\n",
    "The first thing we need to do is *find* (or *generate*) data and load it to Python.  This can be challenging!  We'll walk through this particular example. Keep in mind, this is an *example*; each case is different and requires unique problem solving on your part.\n",
    "\n",
    "* This data set is located in a Github archive. The author of DSCFI tells us where to find it: locate and click the link `the code for this book`.\n",
    "* The file we want is `can_lang.csv`.  Click on this file's link.\n",
    "* Click the `Raw` button.\n",
    "* Copy the url.\n",
    "* Type the following commands in a Python block (a blank Python block is provided below):\n",
    "\n",
    "    `import pandas as pd`\n",
    "\n",
    "    `github_url=' '`\n",
    "\n",
    "    `df_can_lang = pd.read_csv(github_url)`\n",
    "\n",
    "Put the copied url inside the quotes.  (A word about *copy-paste*: you can certainly copy-paste the commands into the block. If you take the time to type them yourself you are more likely to remember them, and while you're typing your brain will be processing what's going on.)\n",
    "* Run the Python block."
   ]
  },
  {
   "cell_type": "code",
   "execution_count": 4,
   "id": "19078455",
   "metadata": {},
   "outputs": [
    {
     "data": {
      "text/html": [
       "<img src onerror=\"var cell = this.closest('.jp-CodeCell');var editor = cell.querySelector('.jp-Editor');editor.style.background='lightblue';this.parentNode.removeChild(this)\">"
      ],
      "text/plain": [
       "<IPython.core.display.HTML object>"
      ]
     },
     "metadata": {},
     "output_type": "display_data"
    }
   ],
   "source": [
    "bgc('lightblue')\n",
    "\n",
    "import pandas as pd\n",
    "\n",
    "github_url='https://raw.githubusercontent.com/UBC-DSCI/introduction-to-datascience/master/data/can_lang.csv'\n",
    "df_can_lang=pd.read_csv(github_url)"
   ]
  },
  {
   "cell_type": "markdown",
   "id": "6006dd56",
   "metadata": {},
   "source": [
    "`df` is for *data frame*.\n",
    "\n",
    "`pandas` is a package we need to load the file. We'll come back to pandas later in the course. \n",
    "\n",
    "We give the import command a name: `df_can_lang` so that we can reference it later.\n",
    "\n",
    "To take an intial look at the data frame, type `df_can_lang` in a Python block."
   ]
  },
  {
   "cell_type": "code",
   "execution_count": 5,
   "id": "2d6f75a8",
   "metadata": {
    "scrolled": true
   },
   "outputs": [
    {
     "data": {
      "text/html": [
       "<img src onerror=\"var cell = this.closest('.jp-CodeCell');var editor = cell.querySelector('.jp-Editor');editor.style.background='lightblue';this.parentNode.removeChild(this)\">"
      ],
      "text/plain": [
       "<IPython.core.display.HTML object>"
      ]
     },
     "metadata": {},
     "output_type": "display_data"
    },
    {
     "data": {
      "text/html": [
       "<div>\n",
       "<style scoped>\n",
       "    .dataframe tbody tr th:only-of-type {\n",
       "        vertical-align: middle;\n",
       "    }\n",
       "\n",
       "    .dataframe tbody tr th {\n",
       "        vertical-align: top;\n",
       "    }\n",
       "\n",
       "    .dataframe thead th {\n",
       "        text-align: right;\n",
       "    }\n",
       "</style>\n",
       "<table border=\"1\" class=\"dataframe\">\n",
       "  <thead>\n",
       "    <tr style=\"text-align: right;\">\n",
       "      <th></th>\n",
       "      <th>category</th>\n",
       "      <th>language</th>\n",
       "      <th>mother_tongue</th>\n",
       "      <th>most_at_home</th>\n",
       "      <th>most_at_work</th>\n",
       "      <th>lang_known</th>\n",
       "    </tr>\n",
       "  </thead>\n",
       "  <tbody>\n",
       "    <tr>\n",
       "      <th>0</th>\n",
       "      <td>Aboriginal languages</td>\n",
       "      <td>Aboriginal languages, n.o.s.</td>\n",
       "      <td>590</td>\n",
       "      <td>235</td>\n",
       "      <td>30</td>\n",
       "      <td>665</td>\n",
       "    </tr>\n",
       "    <tr>\n",
       "      <th>1</th>\n",
       "      <td>Non-Official &amp; Non-Aboriginal languages</td>\n",
       "      <td>Afrikaans</td>\n",
       "      <td>10260</td>\n",
       "      <td>4785</td>\n",
       "      <td>85</td>\n",
       "      <td>23415</td>\n",
       "    </tr>\n",
       "    <tr>\n",
       "      <th>2</th>\n",
       "      <td>Non-Official &amp; Non-Aboriginal languages</td>\n",
       "      <td>Afro-Asiatic languages, n.i.e.</td>\n",
       "      <td>1150</td>\n",
       "      <td>445</td>\n",
       "      <td>10</td>\n",
       "      <td>2775</td>\n",
       "    </tr>\n",
       "    <tr>\n",
       "      <th>3</th>\n",
       "      <td>Non-Official &amp; Non-Aboriginal languages</td>\n",
       "      <td>Akan (Twi)</td>\n",
       "      <td>13460</td>\n",
       "      <td>5985</td>\n",
       "      <td>25</td>\n",
       "      <td>22150</td>\n",
       "    </tr>\n",
       "    <tr>\n",
       "      <th>4</th>\n",
       "      <td>Non-Official &amp; Non-Aboriginal languages</td>\n",
       "      <td>Albanian</td>\n",
       "      <td>26895</td>\n",
       "      <td>13135</td>\n",
       "      <td>345</td>\n",
       "      <td>31930</td>\n",
       "    </tr>\n",
       "    <tr>\n",
       "      <th>...</th>\n",
       "      <td>...</td>\n",
       "      <td>...</td>\n",
       "      <td>...</td>\n",
       "      <td>...</td>\n",
       "      <td>...</td>\n",
       "      <td>...</td>\n",
       "    </tr>\n",
       "    <tr>\n",
       "      <th>209</th>\n",
       "      <td>Non-Official &amp; Non-Aboriginal languages</td>\n",
       "      <td>Wolof</td>\n",
       "      <td>3990</td>\n",
       "      <td>1385</td>\n",
       "      <td>10</td>\n",
       "      <td>8240</td>\n",
       "    </tr>\n",
       "    <tr>\n",
       "      <th>210</th>\n",
       "      <td>Aboriginal languages</td>\n",
       "      <td>Woods Cree</td>\n",
       "      <td>1840</td>\n",
       "      <td>800</td>\n",
       "      <td>75</td>\n",
       "      <td>2665</td>\n",
       "    </tr>\n",
       "    <tr>\n",
       "      <th>211</th>\n",
       "      <td>Non-Official &amp; Non-Aboriginal languages</td>\n",
       "      <td>Wu (Shanghainese)</td>\n",
       "      <td>12915</td>\n",
       "      <td>7650</td>\n",
       "      <td>105</td>\n",
       "      <td>16530</td>\n",
       "    </tr>\n",
       "    <tr>\n",
       "      <th>212</th>\n",
       "      <td>Non-Official &amp; Non-Aboriginal languages</td>\n",
       "      <td>Yiddish</td>\n",
       "      <td>13555</td>\n",
       "      <td>7085</td>\n",
       "      <td>895</td>\n",
       "      <td>20985</td>\n",
       "    </tr>\n",
       "    <tr>\n",
       "      <th>213</th>\n",
       "      <td>Non-Official &amp; Non-Aboriginal languages</td>\n",
       "      <td>Yoruba</td>\n",
       "      <td>9080</td>\n",
       "      <td>2615</td>\n",
       "      <td>15</td>\n",
       "      <td>22415</td>\n",
       "    </tr>\n",
       "  </tbody>\n",
       "</table>\n",
       "<p>214 rows × 6 columns</p>\n",
       "</div>"
      ],
      "text/plain": [
       "                                    category                        language  \\\n",
       "0                       Aboriginal languages    Aboriginal languages, n.o.s.   \n",
       "1    Non-Official & Non-Aboriginal languages                       Afrikaans   \n",
       "2    Non-Official & Non-Aboriginal languages  Afro-Asiatic languages, n.i.e.   \n",
       "3    Non-Official & Non-Aboriginal languages                      Akan (Twi)   \n",
       "4    Non-Official & Non-Aboriginal languages                        Albanian   \n",
       "..                                       ...                             ...   \n",
       "209  Non-Official & Non-Aboriginal languages                           Wolof   \n",
       "210                     Aboriginal languages                      Woods Cree   \n",
       "211  Non-Official & Non-Aboriginal languages               Wu (Shanghainese)   \n",
       "212  Non-Official & Non-Aboriginal languages                         Yiddish   \n",
       "213  Non-Official & Non-Aboriginal languages                          Yoruba   \n",
       "\n",
       "     mother_tongue  most_at_home  most_at_work  lang_known  \n",
       "0              590           235            30         665  \n",
       "1            10260          4785            85       23415  \n",
       "2             1150           445            10        2775  \n",
       "3            13460          5985            25       22150  \n",
       "4            26895         13135           345       31930  \n",
       "..             ...           ...           ...         ...  \n",
       "209           3990          1385            10        8240  \n",
       "210           1840           800            75        2665  \n",
       "211          12915          7650           105       16530  \n",
       "212          13555          7085           895       20985  \n",
       "213           9080          2615            15       22415  \n",
       "\n",
       "[214 rows x 6 columns]"
      ]
     },
     "execution_count": 5,
     "metadata": {},
     "output_type": "execute_result"
    }
   ],
   "source": [
    "bgc('lightblue')\n",
    "df_can_lang"
   ]
  },
  {
   "cell_type": "markdown",
   "id": "40ba7a2f",
   "metadata": {},
   "source": [
    "**Your turn:**\n",
    "\n",
    "The data set below is from the US Census bureau.  It shows languages spoken in Navajo county, AZ.  (the data set has been *cleaned up*, we'll address this issue later in the course)\n",
    "\n",
    "Go to the github repository:\n",
    "\n",
    "https://github.com/CarlLienert/IntroDataScience\n",
    "\n",
    "and upload the data set `LanguagesNavajoCountyNAremoved.csv`\n",
    "\n",
    "Look at the data.\n",
    "\n",
    "Again, please leave the code line, bgc('lightblue'), at the beginning of the python cells.\n"
   ]
  },
  {
   "cell_type": "code",
   "execution_count": 6,
   "id": "055d78c0",
   "metadata": {},
   "outputs": [
    {
     "data": {
      "text/html": [
       "<img src onerror=\"var cell = this.closest('.jp-CodeCell');var editor = cell.querySelector('.jp-Editor');editor.style.background='lightblue';this.parentNode.removeChild(this)\">"
      ],
      "text/plain": [
       "<IPython.core.display.HTML object>"
      ]
     },
     "metadata": {},
     "output_type": "display_data"
    }
   ],
   "source": [
    "bgc('lightblue')\n",
    "github_url='https://raw.githubusercontent.com/CarlLienert/IntroDataScience/main/LanguagesNavajoCountyNAremoved.csv'\n",
    "df_navajo_county=pd.read_csv(github_url)"
   ]
  },
  {
   "cell_type": "code",
   "execution_count": 7,
   "id": "cbbd1c45",
   "metadata": {},
   "outputs": [
    {
     "data": {
      "text/html": [
       "<img src onerror=\"var cell = this.closest('.jp-CodeCell');var editor = cell.querySelector('.jp-Editor');editor.style.background='lightblue';this.parentNode.removeChild(this)\">"
      ],
      "text/plain": [
       "<IPython.core.display.HTML object>"
      ]
     },
     "metadata": {},
     "output_type": "display_data"
    },
    {
     "data": {
      "text/html": [
       "<div>\n",
       "<style scoped>\n",
       "    .dataframe tbody tr th:only-of-type {\n",
       "        vertical-align: middle;\n",
       "    }\n",
       "\n",
       "    .dataframe tbody tr th {\n",
       "        vertical-align: top;\n",
       "    }\n",
       "\n",
       "    .dataframe thead th {\n",
       "        text-align: right;\n",
       "    }\n",
       "</style>\n",
       "<table border=\"1\" class=\"dataframe\">\n",
       "  <thead>\n",
       "    <tr style=\"text-align: right;\">\n",
       "      <th></th>\n",
       "      <th>Language</th>\n",
       "      <th>Category</th>\n",
       "      <th>Number_of_speakers</th>\n",
       "      <th>Speak_English_less_than_\"Very Well\"</th>\n",
       "    </tr>\n",
       "  </thead>\n",
       "  <tbody>\n",
       "    <tr>\n",
       "      <th>0</th>\n",
       "      <td>English only</td>\n",
       "      <td>English</td>\n",
       "      <td>62532</td>\n",
       "      <td>NaN</td>\n",
       "    </tr>\n",
       "    <tr>\n",
       "      <th>1</th>\n",
       "      <td>Spanish</td>\n",
       "      <td>non-English, non-North American</td>\n",
       "      <td>5885</td>\n",
       "      <td>1775.0</td>\n",
       "    </tr>\n",
       "    <tr>\n",
       "      <th>2</th>\n",
       "      <td>French</td>\n",
       "      <td>non-English, non-North American</td>\n",
       "      <td>85</td>\n",
       "      <td>13.0</td>\n",
       "    </tr>\n",
       "    <tr>\n",
       "      <th>3</th>\n",
       "      <td>Italian</td>\n",
       "      <td>non-English, non-North American</td>\n",
       "      <td>18</td>\n",
       "      <td>NaN</td>\n",
       "    </tr>\n",
       "    <tr>\n",
       "      <th>4</th>\n",
       "      <td>Portuguese</td>\n",
       "      <td>non-English, non-North American</td>\n",
       "      <td>45</td>\n",
       "      <td>NaN</td>\n",
       "    </tr>\n",
       "    <tr>\n",
       "      <th>5</th>\n",
       "      <td>German</td>\n",
       "      <td>non-English, non-North American</td>\n",
       "      <td>85</td>\n",
       "      <td>NaN</td>\n",
       "    </tr>\n",
       "    <tr>\n",
       "      <th>6</th>\n",
       "      <td>Scandinavian languages (Swedish or Norwegian)</td>\n",
       "      <td>non-English, non-North American</td>\n",
       "      <td>34</td>\n",
       "      <td>NaN</td>\n",
       "    </tr>\n",
       "    <tr>\n",
       "      <th>7</th>\n",
       "      <td>Russian</td>\n",
       "      <td>non-English, non-North American</td>\n",
       "      <td>56</td>\n",
       "      <td>NaN</td>\n",
       "    </tr>\n",
       "    <tr>\n",
       "      <th>8</th>\n",
       "      <td>Polish</td>\n",
       "      <td>non-English, non-North American</td>\n",
       "      <td>55</td>\n",
       "      <td>20.0</td>\n",
       "    </tr>\n",
       "    <tr>\n",
       "      <th>9</th>\n",
       "      <td>Serbo-Croatian languages</td>\n",
       "      <td>non-English, non-North American</td>\n",
       "      <td>6</td>\n",
       "      <td>NaN</td>\n",
       "    </tr>\n",
       "    <tr>\n",
       "      <th>10</th>\n",
       "      <td>Other Slavic languages (Czech)</td>\n",
       "      <td>non-English, non-North American</td>\n",
       "      <td>11</td>\n",
       "      <td>NaN</td>\n",
       "    </tr>\n",
       "    <tr>\n",
       "      <th>11</th>\n",
       "      <td>Persian</td>\n",
       "      <td>non-English, non-North American</td>\n",
       "      <td>2</td>\n",
       "      <td>NaN</td>\n",
       "    </tr>\n",
       "    <tr>\n",
       "      <th>12</th>\n",
       "      <td>Hindi</td>\n",
       "      <td>non-English, non-North American</td>\n",
       "      <td>38</td>\n",
       "      <td>7.0</td>\n",
       "    </tr>\n",
       "    <tr>\n",
       "      <th>13</th>\n",
       "      <td>Panjabi</td>\n",
       "      <td>non-English, non-North American</td>\n",
       "      <td>90</td>\n",
       "      <td>40.0</td>\n",
       "    </tr>\n",
       "    <tr>\n",
       "      <th>14</th>\n",
       "      <td>Irish Gaelic</td>\n",
       "      <td>non-English, non-North American</td>\n",
       "      <td>1</td>\n",
       "      <td>NaN</td>\n",
       "    </tr>\n",
       "    <tr>\n",
       "      <th>15</th>\n",
       "      <td>Chinese (incl. Cantonese, Mandarin, other Chin...</td>\n",
       "      <td>non-English, non-North American</td>\n",
       "      <td>35</td>\n",
       "      <td>NaN</td>\n",
       "    </tr>\n",
       "    <tr>\n",
       "      <th>16</th>\n",
       "      <td>Japanese</td>\n",
       "      <td>non-English, non-North American</td>\n",
       "      <td>58</td>\n",
       "      <td>8.0</td>\n",
       "    </tr>\n",
       "    <tr>\n",
       "      <th>17</th>\n",
       "      <td>Korean</td>\n",
       "      <td>non-English, non-North American</td>\n",
       "      <td>26</td>\n",
       "      <td>12.0</td>\n",
       "    </tr>\n",
       "    <tr>\n",
       "      <th>18</th>\n",
       "      <td>Mon-Khmer, Cambodian</td>\n",
       "      <td>non-English, non-North American</td>\n",
       "      <td>48</td>\n",
       "      <td>48.0</td>\n",
       "    </tr>\n",
       "    <tr>\n",
       "      <th>19</th>\n",
       "      <td>Vietnamese</td>\n",
       "      <td>non-English, non-North American</td>\n",
       "      <td>8</td>\n",
       "      <td>NaN</td>\n",
       "    </tr>\n",
       "    <tr>\n",
       "      <th>20</th>\n",
       "      <td>Tagalog</td>\n",
       "      <td>non-English, non-North American</td>\n",
       "      <td>122</td>\n",
       "      <td>24.0</td>\n",
       "    </tr>\n",
       "    <tr>\n",
       "      <th>21</th>\n",
       "      <td>Other Pacific Island languages</td>\n",
       "      <td>non-English, non-North American</td>\n",
       "      <td>89</td>\n",
       "      <td>15.0</td>\n",
       "    </tr>\n",
       "    <tr>\n",
       "      <th>22</th>\n",
       "      <td>Navajo</td>\n",
       "      <td>native North American</td>\n",
       "      <td>19745</td>\n",
       "      <td>6194.0</td>\n",
       "    </tr>\n",
       "    <tr>\n",
       "      <th>23</th>\n",
       "      <td>Apache</td>\n",
       "      <td>native North American</td>\n",
       "      <td>5700</td>\n",
       "      <td>205.0</td>\n",
       "    </tr>\n",
       "    <tr>\n",
       "      <th>24</th>\n",
       "      <td>Dakota</td>\n",
       "      <td>native North American</td>\n",
       "      <td>50</td>\n",
       "      <td>NaN</td>\n",
       "    </tr>\n",
       "    <tr>\n",
       "      <th>25</th>\n",
       "      <td>Keres</td>\n",
       "      <td>native North American</td>\n",
       "      <td>140</td>\n",
       "      <td>NaN</td>\n",
       "    </tr>\n",
       "    <tr>\n",
       "      <th>26</th>\n",
       "      <td>Hopi</td>\n",
       "      <td>native North American</td>\n",
       "      <td>3590</td>\n",
       "      <td>990.0</td>\n",
       "    </tr>\n",
       "    <tr>\n",
       "      <th>27</th>\n",
       "      <td>Pima</td>\n",
       "      <td>native North American</td>\n",
       "      <td>60</td>\n",
       "      <td>NaN</td>\n",
       "    </tr>\n",
       "    <tr>\n",
       "      <th>28</th>\n",
       "      <td>Tewa</td>\n",
       "      <td>native North American</td>\n",
       "      <td>110</td>\n",
       "      <td>80.0</td>\n",
       "    </tr>\n",
       "    <tr>\n",
       "      <th>29</th>\n",
       "      <td>San Carlos</td>\n",
       "      <td>native North American</td>\n",
       "      <td>70</td>\n",
       "      <td>NaN</td>\n",
       "    </tr>\n",
       "    <tr>\n",
       "      <th>30</th>\n",
       "      <td>Arabic</td>\n",
       "      <td>non-English, non-North American</td>\n",
       "      <td>32</td>\n",
       "      <td>8.0</td>\n",
       "    </tr>\n",
       "    <tr>\n",
       "      <th>31</th>\n",
       "      <td>Hebrew</td>\n",
       "      <td>non-English, non-North American</td>\n",
       "      <td>1</td>\n",
       "      <td>NaN</td>\n",
       "    </tr>\n",
       "    <tr>\n",
       "      <th>32</th>\n",
       "      <td>Other and unspecified languages</td>\n",
       "      <td>non-English, non-North American</td>\n",
       "      <td>19</td>\n",
       "      <td>19.0</td>\n",
       "    </tr>\n",
       "  </tbody>\n",
       "</table>\n",
       "</div>"
      ],
      "text/plain": [
       "                                             Language  \\\n",
       "0                                        English only   \n",
       "1                                             Spanish   \n",
       "2                                              French   \n",
       "3                                             Italian   \n",
       "4                                          Portuguese   \n",
       "5                                              German   \n",
       "6       Scandinavian languages (Swedish or Norwegian)   \n",
       "7                                             Russian   \n",
       "8                                              Polish   \n",
       "9                            Serbo-Croatian languages   \n",
       "10                     Other Slavic languages (Czech)   \n",
       "11                                            Persian   \n",
       "12                                              Hindi   \n",
       "13                                            Panjabi   \n",
       "14                                       Irish Gaelic   \n",
       "15  Chinese (incl. Cantonese, Mandarin, other Chin...   \n",
       "16                                           Japanese   \n",
       "17                                             Korean   \n",
       "18                               Mon-Khmer, Cambodian   \n",
       "19                                         Vietnamese   \n",
       "20                                            Tagalog   \n",
       "21                     Other Pacific Island languages   \n",
       "22                                             Navajo   \n",
       "23                                             Apache   \n",
       "24                                             Dakota   \n",
       "25                                              Keres   \n",
       "26                                               Hopi   \n",
       "27                                               Pima   \n",
       "28                                               Tewa   \n",
       "29                                         San Carlos   \n",
       "30                                             Arabic   \n",
       "31                                             Hebrew   \n",
       "32                    Other and unspecified languages   \n",
       "\n",
       "                           Category  Number_of_speakers  \\\n",
       "0                           English               62532   \n",
       "1   non-English, non-North American                5885   \n",
       "2   non-English, non-North American                  85   \n",
       "3   non-English, non-North American                  18   \n",
       "4   non-English, non-North American                  45   \n",
       "5   non-English, non-North American                  85   \n",
       "6   non-English, non-North American                  34   \n",
       "7   non-English, non-North American                  56   \n",
       "8   non-English, non-North American                  55   \n",
       "9   non-English, non-North American                   6   \n",
       "10  non-English, non-North American                  11   \n",
       "11  non-English, non-North American                   2   \n",
       "12  non-English, non-North American                  38   \n",
       "13  non-English, non-North American                  90   \n",
       "14  non-English, non-North American                   1   \n",
       "15  non-English, non-North American                  35   \n",
       "16  non-English, non-North American                  58   \n",
       "17  non-English, non-North American                  26   \n",
       "18  non-English, non-North American                  48   \n",
       "19  non-English, non-North American                   8   \n",
       "20  non-English, non-North American                 122   \n",
       "21  non-English, non-North American                  89   \n",
       "22            native North American               19745   \n",
       "23            native North American                5700   \n",
       "24            native North American                  50   \n",
       "25            native North American                 140   \n",
       "26            native North American                3590   \n",
       "27            native North American                  60   \n",
       "28            native North American                 110   \n",
       "29            native North American                  70   \n",
       "30  non-English, non-North American                  32   \n",
       "31  non-English, non-North American                   1   \n",
       "32  non-English, non-North American                  19   \n",
       "\n",
       "    Speak_English_less_than_\"Very Well\"  \n",
       "0                                   NaN  \n",
       "1                                1775.0  \n",
       "2                                  13.0  \n",
       "3                                   NaN  \n",
       "4                                   NaN  \n",
       "5                                   NaN  \n",
       "6                                   NaN  \n",
       "7                                   NaN  \n",
       "8                                  20.0  \n",
       "9                                   NaN  \n",
       "10                                  NaN  \n",
       "11                                  NaN  \n",
       "12                                  7.0  \n",
       "13                                 40.0  \n",
       "14                                  NaN  \n",
       "15                                  NaN  \n",
       "16                                  8.0  \n",
       "17                                 12.0  \n",
       "18                                 48.0  \n",
       "19                                  NaN  \n",
       "20                                 24.0  \n",
       "21                                 15.0  \n",
       "22                               6194.0  \n",
       "23                                205.0  \n",
       "24                                  NaN  \n",
       "25                                  NaN  \n",
       "26                                990.0  \n",
       "27                                  NaN  \n",
       "28                                 80.0  \n",
       "29                                  NaN  \n",
       "30                                  8.0  \n",
       "31                                  NaN  \n",
       "32                                 19.0  "
      ]
     },
     "execution_count": 7,
     "metadata": {},
     "output_type": "execute_result"
    }
   ],
   "source": [
    "bgc('lightblue')\n",
    "df_navajo_county"
   ]
  },
  {
   "cell_type": "markdown",
   "id": "12463095",
   "metadata": {},
   "source": [
    "# Thinking about the data:\n",
    "\n",
    "The titles across the top are called *variables*.  Each row is called an *observation*."
   ]
  },
  {
   "cell_type": "markdown",
   "id": "1707112b",
   "metadata": {},
   "source": [
    "#### Question:\n",
    "\n",
    "In the Canadian language data set: How many variables are there?  How many observations?"
   ]
  },
  {
   "cell_type": "markdown",
   "id": "bfef6a08-c78e-4b66-90fc-63878f9db90a",
   "metadata": {},
   "source": [
    "#### Answer:\n",
    "\n",
    "<div class=\"alert alert-block alert-info\"><font color=black>\n",
    "\n",
    "    \n",
    "Answer here...\n",
    "    \n",
    "</font>  \n",
    "</div>"
   ]
  },
  {
   "cell_type": "markdown",
   "id": "534a3227",
   "metadata": {},
   "source": [
    "If we want to focus our attention on aboriginal languages we'd like only those observations (rows) whose `category` is `Aboriginal languages`.  The following focuses the data base:"
   ]
  },
  {
   "cell_type": "code",
   "execution_count": 8,
   "id": "d3d5d4cf",
   "metadata": {},
   "outputs": [],
   "source": [
    "aborig_langs=df_can_lang[df_can_lang['category']=='Aboriginal languages']"
   ]
  },
  {
   "cell_type": "markdown",
   "id": "bd912a8f",
   "metadata": {},
   "source": [
    "It's critical to think carefully about what the command above is doing.\n",
    "\n",
    "* `aborig_langs` creates a name for the for the filtered sub-dataset\n",
    "* `df_can_lang['category']` indicates to filter in the `category` variable\n",
    "* `\"Aboriginal languages\"` indicates which *values* of the variable to chose\n",
    "* Notice the difference between `=` and `==`\n",
    "\n",
    "After filtering the data, we would like to see the data for aborig_langs. We enter the name of that filtered data into a cell and Run it."
   ]
  },
  {
   "cell_type": "code",
   "execution_count": 9,
   "id": "a513c0f9",
   "metadata": {},
   "outputs": [
    {
     "data": {
      "text/html": [
       "<div>\n",
       "<style scoped>\n",
       "    .dataframe tbody tr th:only-of-type {\n",
       "        vertical-align: middle;\n",
       "    }\n",
       "\n",
       "    .dataframe tbody tr th {\n",
       "        vertical-align: top;\n",
       "    }\n",
       "\n",
       "    .dataframe thead th {\n",
       "        text-align: right;\n",
       "    }\n",
       "</style>\n",
       "<table border=\"1\" class=\"dataframe\">\n",
       "  <thead>\n",
       "    <tr style=\"text-align: right;\">\n",
       "      <th></th>\n",
       "      <th>category</th>\n",
       "      <th>language</th>\n",
       "      <th>mother_tongue</th>\n",
       "      <th>most_at_home</th>\n",
       "      <th>most_at_work</th>\n",
       "      <th>lang_known</th>\n",
       "    </tr>\n",
       "  </thead>\n",
       "  <tbody>\n",
       "    <tr>\n",
       "      <th>0</th>\n",
       "      <td>Aboriginal languages</td>\n",
       "      <td>Aboriginal languages, n.o.s.</td>\n",
       "      <td>590</td>\n",
       "      <td>235</td>\n",
       "      <td>30</td>\n",
       "      <td>665</td>\n",
       "    </tr>\n",
       "    <tr>\n",
       "      <th>5</th>\n",
       "      <td>Aboriginal languages</td>\n",
       "      <td>Algonquian languages, n.i.e.</td>\n",
       "      <td>45</td>\n",
       "      <td>10</td>\n",
       "      <td>0</td>\n",
       "      <td>120</td>\n",
       "    </tr>\n",
       "    <tr>\n",
       "      <th>6</th>\n",
       "      <td>Aboriginal languages</td>\n",
       "      <td>Algonquin</td>\n",
       "      <td>1260</td>\n",
       "      <td>370</td>\n",
       "      <td>40</td>\n",
       "      <td>2480</td>\n",
       "    </tr>\n",
       "    <tr>\n",
       "      <th>12</th>\n",
       "      <td>Aboriginal languages</td>\n",
       "      <td>Athabaskan languages, n.i.e.</td>\n",
       "      <td>50</td>\n",
       "      <td>10</td>\n",
       "      <td>0</td>\n",
       "      <td>85</td>\n",
       "    </tr>\n",
       "    <tr>\n",
       "      <th>13</th>\n",
       "      <td>Aboriginal languages</td>\n",
       "      <td>Atikamekw</td>\n",
       "      <td>6150</td>\n",
       "      <td>5465</td>\n",
       "      <td>1100</td>\n",
       "      <td>6645</td>\n",
       "    </tr>\n",
       "    <tr>\n",
       "      <th>...</th>\n",
       "      <td>...</td>\n",
       "      <td>...</td>\n",
       "      <td>...</td>\n",
       "      <td>...</td>\n",
       "      <td>...</td>\n",
       "      <td>...</td>\n",
       "    </tr>\n",
       "    <tr>\n",
       "      <th>191</th>\n",
       "      <td>Aboriginal languages</td>\n",
       "      <td>Thompson (Ntlakapamux)</td>\n",
       "      <td>335</td>\n",
       "      <td>20</td>\n",
       "      <td>0</td>\n",
       "      <td>450</td>\n",
       "    </tr>\n",
       "    <tr>\n",
       "      <th>195</th>\n",
       "      <td>Aboriginal languages</td>\n",
       "      <td>Tlingit</td>\n",
       "      <td>95</td>\n",
       "      <td>0</td>\n",
       "      <td>10</td>\n",
       "      <td>260</td>\n",
       "    </tr>\n",
       "    <tr>\n",
       "      <th>196</th>\n",
       "      <td>Aboriginal languages</td>\n",
       "      <td>Tsimshian</td>\n",
       "      <td>200</td>\n",
       "      <td>30</td>\n",
       "      <td>10</td>\n",
       "      <td>410</td>\n",
       "    </tr>\n",
       "    <tr>\n",
       "      <th>206</th>\n",
       "      <td>Aboriginal languages</td>\n",
       "      <td>Wakashan languages, n.i.e.</td>\n",
       "      <td>10</td>\n",
       "      <td>0</td>\n",
       "      <td>0</td>\n",
       "      <td>25</td>\n",
       "    </tr>\n",
       "    <tr>\n",
       "      <th>210</th>\n",
       "      <td>Aboriginal languages</td>\n",
       "      <td>Woods Cree</td>\n",
       "      <td>1840</td>\n",
       "      <td>800</td>\n",
       "      <td>75</td>\n",
       "      <td>2665</td>\n",
       "    </tr>\n",
       "  </tbody>\n",
       "</table>\n",
       "<p>67 rows × 6 columns</p>\n",
       "</div>"
      ],
      "text/plain": [
       "                 category                      language  mother_tongue  \\\n",
       "0    Aboriginal languages  Aboriginal languages, n.o.s.            590   \n",
       "5    Aboriginal languages  Algonquian languages, n.i.e.             45   \n",
       "6    Aboriginal languages                     Algonquin           1260   \n",
       "12   Aboriginal languages  Athabaskan languages, n.i.e.             50   \n",
       "13   Aboriginal languages                     Atikamekw           6150   \n",
       "..                    ...                           ...            ...   \n",
       "191  Aboriginal languages        Thompson (Ntlakapamux)            335   \n",
       "195  Aboriginal languages                       Tlingit             95   \n",
       "196  Aboriginal languages                     Tsimshian            200   \n",
       "206  Aboriginal languages    Wakashan languages, n.i.e.             10   \n",
       "210  Aboriginal languages                    Woods Cree           1840   \n",
       "\n",
       "     most_at_home  most_at_work  lang_known  \n",
       "0             235            30         665  \n",
       "5              10             0         120  \n",
       "6             370            40        2480  \n",
       "12             10             0          85  \n",
       "13           5465          1100        6645  \n",
       "..            ...           ...         ...  \n",
       "191            20             0         450  \n",
       "195             0            10         260  \n",
       "196            30            10         410  \n",
       "206             0             0          25  \n",
       "210           800            75        2665  \n",
       "\n",
       "[67 rows x 6 columns]"
      ]
     },
     "execution_count": 9,
     "metadata": {},
     "output_type": "execute_result"
    }
   ],
   "source": [
    "aborig_langs"
   ]
  },
  {
   "cell_type": "markdown",
   "id": "fd0767d5",
   "metadata": {},
   "source": [
    "If, in addition, we are intereted in those who speak an Aboriginal language as a *mother tongue* we really only need the variable (column) labeled `mother_tongue` and `language`.  The following command selects the columns we want, and leaves out those we don't."
   ]
  },
  {
   "cell_type": "code",
   "execution_count": 10,
   "id": "4cc8c7c0",
   "metadata": {},
   "outputs": [
    {
     "data": {
      "text/html": [
       "<div>\n",
       "<style scoped>\n",
       "    .dataframe tbody tr th:only-of-type {\n",
       "        vertical-align: middle;\n",
       "    }\n",
       "\n",
       "    .dataframe tbody tr th {\n",
       "        vertical-align: top;\n",
       "    }\n",
       "\n",
       "    .dataframe thead th {\n",
       "        text-align: right;\n",
       "    }\n",
       "</style>\n",
       "<table border=\"1\" class=\"dataframe\">\n",
       "  <thead>\n",
       "    <tr style=\"text-align: right;\">\n",
       "      <th></th>\n",
       "      <th>language</th>\n",
       "      <th>mother_tongue</th>\n",
       "    </tr>\n",
       "  </thead>\n",
       "  <tbody>\n",
       "    <tr>\n",
       "      <th>0</th>\n",
       "      <td>Aboriginal languages, n.o.s.</td>\n",
       "      <td>590</td>\n",
       "    </tr>\n",
       "    <tr>\n",
       "      <th>5</th>\n",
       "      <td>Algonquian languages, n.i.e.</td>\n",
       "      <td>45</td>\n",
       "    </tr>\n",
       "    <tr>\n",
       "      <th>6</th>\n",
       "      <td>Algonquin</td>\n",
       "      <td>1260</td>\n",
       "    </tr>\n",
       "    <tr>\n",
       "      <th>12</th>\n",
       "      <td>Athabaskan languages, n.i.e.</td>\n",
       "      <td>50</td>\n",
       "    </tr>\n",
       "    <tr>\n",
       "      <th>13</th>\n",
       "      <td>Atikamekw</td>\n",
       "      <td>6150</td>\n",
       "    </tr>\n",
       "    <tr>\n",
       "      <th>...</th>\n",
       "      <td>...</td>\n",
       "      <td>...</td>\n",
       "    </tr>\n",
       "    <tr>\n",
       "      <th>191</th>\n",
       "      <td>Thompson (Ntlakapamux)</td>\n",
       "      <td>335</td>\n",
       "    </tr>\n",
       "    <tr>\n",
       "      <th>195</th>\n",
       "      <td>Tlingit</td>\n",
       "      <td>95</td>\n",
       "    </tr>\n",
       "    <tr>\n",
       "      <th>196</th>\n",
       "      <td>Tsimshian</td>\n",
       "      <td>200</td>\n",
       "    </tr>\n",
       "    <tr>\n",
       "      <th>206</th>\n",
       "      <td>Wakashan languages, n.i.e.</td>\n",
       "      <td>10</td>\n",
       "    </tr>\n",
       "    <tr>\n",
       "      <th>210</th>\n",
       "      <td>Woods Cree</td>\n",
       "      <td>1840</td>\n",
       "    </tr>\n",
       "  </tbody>\n",
       "</table>\n",
       "<p>67 rows × 2 columns</p>\n",
       "</div>"
      ],
      "text/plain": [
       "                         language  mother_tongue\n",
       "0    Aboriginal languages, n.o.s.            590\n",
       "5    Algonquian languages, n.i.e.             45\n",
       "6                       Algonquin           1260\n",
       "12   Athabaskan languages, n.i.e.             50\n",
       "13                      Atikamekw           6150\n",
       "..                            ...            ...\n",
       "191        Thompson (Ntlakapamux)            335\n",
       "195                       Tlingit             95\n",
       "196                     Tsimshian            200\n",
       "206    Wakashan languages, n.i.e.             10\n",
       "210                    Woods Cree           1840\n",
       "\n",
       "[67 rows x 2 columns]"
      ]
     },
     "execution_count": 10,
     "metadata": {},
     "output_type": "execute_result"
    }
   ],
   "source": [
    "maternal_lang=aborig_langs[['language','mother_tongue']]\n",
    "maternal_lang"
   ]
  },
  {
   "cell_type": "markdown",
   "id": "4407dea4",
   "metadata": {},
   "source": [
    "Which would be easier to think about if the numbers in the `mother_tongue` were in, say, order from largest to smallest:"
   ]
  },
  {
   "cell_type": "code",
   "execution_count": 11,
   "id": "d11ced5a",
   "metadata": {},
   "outputs": [
    {
     "data": {
      "text/html": [
       "<div>\n",
       "<style scoped>\n",
       "    .dataframe tbody tr th:only-of-type {\n",
       "        vertical-align: middle;\n",
       "    }\n",
       "\n",
       "    .dataframe tbody tr th {\n",
       "        vertical-align: top;\n",
       "    }\n",
       "\n",
       "    .dataframe thead th {\n",
       "        text-align: right;\n",
       "    }\n",
       "</style>\n",
       "<table border=\"1\" class=\"dataframe\">\n",
       "  <thead>\n",
       "    <tr style=\"text-align: right;\">\n",
       "      <th></th>\n",
       "      <th>language</th>\n",
       "      <th>mother_tongue</th>\n",
       "    </tr>\n",
       "  </thead>\n",
       "  <tbody>\n",
       "    <tr>\n",
       "      <th>40</th>\n",
       "      <td>Cree, n.o.s.</td>\n",
       "      <td>64050</td>\n",
       "    </tr>\n",
       "    <tr>\n",
       "      <th>89</th>\n",
       "      <td>Inuktitut</td>\n",
       "      <td>35210</td>\n",
       "    </tr>\n",
       "    <tr>\n",
       "      <th>138</th>\n",
       "      <td>Ojibway</td>\n",
       "      <td>17885</td>\n",
       "    </tr>\n",
       "    <tr>\n",
       "      <th>137</th>\n",
       "      <td>Oji-Cree</td>\n",
       "      <td>12855</td>\n",
       "    </tr>\n",
       "    <tr>\n",
       "      <th>48</th>\n",
       "      <td>Dene</td>\n",
       "      <td>10700</td>\n",
       "    </tr>\n",
       "    <tr>\n",
       "      <th>...</th>\n",
       "      <td>...</td>\n",
       "      <td>...</td>\n",
       "    </tr>\n",
       "    <tr>\n",
       "      <th>5</th>\n",
       "      <td>Algonquian languages, n.i.e.</td>\n",
       "      <td>45</td>\n",
       "    </tr>\n",
       "    <tr>\n",
       "      <th>32</th>\n",
       "      <td>Cayuga</td>\n",
       "      <td>45</td>\n",
       "    </tr>\n",
       "    <tr>\n",
       "      <th>179</th>\n",
       "      <td>Squamish</td>\n",
       "      <td>40</td>\n",
       "    </tr>\n",
       "    <tr>\n",
       "      <th>90</th>\n",
       "      <td>Iroquoian languages, n.i.e.</td>\n",
       "      <td>35</td>\n",
       "    </tr>\n",
       "    <tr>\n",
       "      <th>206</th>\n",
       "      <td>Wakashan languages, n.i.e.</td>\n",
       "      <td>10</td>\n",
       "    </tr>\n",
       "  </tbody>\n",
       "</table>\n",
       "<p>67 rows × 2 columns</p>\n",
       "</div>"
      ],
      "text/plain": [
       "                         language  mother_tongue\n",
       "40                   Cree, n.o.s.          64050\n",
       "89                      Inuktitut          35210\n",
       "138                       Ojibway          17885\n",
       "137                      Oji-Cree          12855\n",
       "48                           Dene          10700\n",
       "..                            ...            ...\n",
       "5    Algonquian languages, n.i.e.             45\n",
       "32                         Cayuga             45\n",
       "179                      Squamish             40\n",
       "90    Iroquoian languages, n.i.e.             35\n",
       "206    Wakashan languages, n.i.e.             10\n",
       "\n",
       "[67 rows x 2 columns]"
      ]
     },
     "execution_count": 11,
     "metadata": {},
     "output_type": "execute_result"
    }
   ],
   "source": [
    "maternal_lang.sort_values('mother_tongue', ascending=False)\n"
   ]
  },
  {
   "cell_type": "markdown",
   "id": "39dbb248",
   "metadata": {},
   "source": [
    "Notice there are 67 rows (ie 67 different languages) in the table above.  Let's limit our attention to those languages spoken by more than 5000 people:"
   ]
  },
  {
   "cell_type": "code",
   "execution_count": 12,
   "id": "5c5cf89a",
   "metadata": {},
   "outputs": [],
   "source": [
    "most_spoken=maternal_lang[maternal_lang['mother_tongue'] >5000]"
   ]
  },
  {
   "cell_type": "code",
   "execution_count": 13,
   "id": "1ba80958",
   "metadata": {},
   "outputs": [
    {
     "data": {
      "text/html": [
       "<div>\n",
       "<style scoped>\n",
       "    .dataframe tbody tr th:only-of-type {\n",
       "        vertical-align: middle;\n",
       "    }\n",
       "\n",
       "    .dataframe tbody tr th {\n",
       "        vertical-align: top;\n",
       "    }\n",
       "\n",
       "    .dataframe thead th {\n",
       "        text-align: right;\n",
       "    }\n",
       "</style>\n",
       "<table border=\"1\" class=\"dataframe\">\n",
       "  <thead>\n",
       "    <tr style=\"text-align: right;\">\n",
       "      <th></th>\n",
       "      <th>language</th>\n",
       "      <th>mother_tongue</th>\n",
       "    </tr>\n",
       "  </thead>\n",
       "  <tbody>\n",
       "    <tr>\n",
       "      <th>13</th>\n",
       "      <td>Atikamekw</td>\n",
       "      <td>6150</td>\n",
       "    </tr>\n",
       "    <tr>\n",
       "      <th>40</th>\n",
       "      <td>Cree, n.o.s.</td>\n",
       "      <td>64050</td>\n",
       "    </tr>\n",
       "    <tr>\n",
       "      <th>48</th>\n",
       "      <td>Dene</td>\n",
       "      <td>10700</td>\n",
       "    </tr>\n",
       "    <tr>\n",
       "      <th>89</th>\n",
       "      <td>Inuktitut</td>\n",
       "      <td>35210</td>\n",
       "    </tr>\n",
       "    <tr>\n",
       "      <th>119</th>\n",
       "      <td>Mi'kmaq</td>\n",
       "      <td>6690</td>\n",
       "    </tr>\n",
       "    <tr>\n",
       "      <th>125</th>\n",
       "      <td>Montagnais (Innu)</td>\n",
       "      <td>10235</td>\n",
       "    </tr>\n",
       "    <tr>\n",
       "      <th>137</th>\n",
       "      <td>Oji-Cree</td>\n",
       "      <td>12855</td>\n",
       "    </tr>\n",
       "    <tr>\n",
       "      <th>138</th>\n",
       "      <td>Ojibway</td>\n",
       "      <td>17885</td>\n",
       "    </tr>\n",
       "  </tbody>\n",
       "</table>\n",
       "</div>"
      ],
      "text/plain": [
       "              language  mother_tongue\n",
       "13           Atikamekw           6150\n",
       "40        Cree, n.o.s.          64050\n",
       "48                Dene          10700\n",
       "89           Inuktitut          35210\n",
       "119            Mi'kmaq           6690\n",
       "125  Montagnais (Innu)          10235\n",
       "137           Oji-Cree          12855\n",
       "138            Ojibway          17885"
      ]
     },
     "execution_count": 13,
     "metadata": {},
     "output_type": "execute_result"
    }
   ],
   "source": [
    "most_spoken"
   ]
  },
  {
   "cell_type": "markdown",
   "id": "6696e29b",
   "metadata": {},
   "source": [
    "## Your turn:\n",
    "\n",
    "Filter the data set for languages spoken in Navajo county so that the subdata set contain only native North American languages, and only the name of the language and the number of speakers of that language. Sort the list in descending order of number of speakers."
   ]
  },
  {
   "cell_type": "code",
   "execution_count": 14,
   "id": "b6d09430",
   "metadata": {},
   "outputs": [
    {
     "data": {
      "text/html": [
       "<img src onerror=\"var cell = this.closest('.jp-CodeCell');var editor = cell.querySelector('.jp-Editor');editor.style.background='lightblue';this.parentNode.removeChild(this)\">"
      ],
      "text/plain": [
       "<IPython.core.display.HTML object>"
      ]
     },
     "metadata": {},
     "output_type": "display_data"
    }
   ],
   "source": [
    "bgc('lightblue')\n",
    "native_langs=df_navajo_county[df_navajo_county['Category']=='native North American']\n",
    "language=native_langs[['Language', 'Number_of_speakers']]"
   ]
  },
  {
   "cell_type": "code",
   "execution_count": 15,
   "id": "2a717df8",
   "metadata": {},
   "outputs": [
    {
     "data": {
      "text/html": [
       "<img src onerror=\"var cell = this.closest('.jp-CodeCell');var editor = cell.querySelector('.jp-Editor');editor.style.background='lightblue';this.parentNode.removeChild(this)\">"
      ],
      "text/plain": [
       "<IPython.core.display.HTML object>"
      ]
     },
     "metadata": {},
     "output_type": "display_data"
    },
    {
     "data": {
      "text/html": [
       "<div>\n",
       "<style scoped>\n",
       "    .dataframe tbody tr th:only-of-type {\n",
       "        vertical-align: middle;\n",
       "    }\n",
       "\n",
       "    .dataframe tbody tr th {\n",
       "        vertical-align: top;\n",
       "    }\n",
       "\n",
       "    .dataframe thead th {\n",
       "        text-align: right;\n",
       "    }\n",
       "</style>\n",
       "<table border=\"1\" class=\"dataframe\">\n",
       "  <thead>\n",
       "    <tr style=\"text-align: right;\">\n",
       "      <th></th>\n",
       "      <th>Language</th>\n",
       "      <th>Number_of_speakers</th>\n",
       "    </tr>\n",
       "  </thead>\n",
       "  <tbody>\n",
       "    <tr>\n",
       "      <th>22</th>\n",
       "      <td>Navajo</td>\n",
       "      <td>19745</td>\n",
       "    </tr>\n",
       "    <tr>\n",
       "      <th>23</th>\n",
       "      <td>Apache</td>\n",
       "      <td>5700</td>\n",
       "    </tr>\n",
       "    <tr>\n",
       "      <th>24</th>\n",
       "      <td>Dakota</td>\n",
       "      <td>50</td>\n",
       "    </tr>\n",
       "    <tr>\n",
       "      <th>25</th>\n",
       "      <td>Keres</td>\n",
       "      <td>140</td>\n",
       "    </tr>\n",
       "    <tr>\n",
       "      <th>26</th>\n",
       "      <td>Hopi</td>\n",
       "      <td>3590</td>\n",
       "    </tr>\n",
       "    <tr>\n",
       "      <th>27</th>\n",
       "      <td>Pima</td>\n",
       "      <td>60</td>\n",
       "    </tr>\n",
       "    <tr>\n",
       "      <th>28</th>\n",
       "      <td>Tewa</td>\n",
       "      <td>110</td>\n",
       "    </tr>\n",
       "    <tr>\n",
       "      <th>29</th>\n",
       "      <td>San Carlos</td>\n",
       "      <td>70</td>\n",
       "    </tr>\n",
       "  </tbody>\n",
       "</table>\n",
       "</div>"
      ],
      "text/plain": [
       "      Language  Number_of_speakers\n",
       "22      Navajo               19745\n",
       "23      Apache                5700\n",
       "24      Dakota                  50\n",
       "25       Keres                 140\n",
       "26        Hopi                3590\n",
       "27        Pima                  60\n",
       "28        Tewa                 110\n",
       "29  San Carlos                  70"
      ]
     },
     "execution_count": 15,
     "metadata": {},
     "output_type": "execute_result"
    }
   ],
   "source": [
    "bgc('lightblue')\n",
    "language"
   ]
  },
  {
   "cell_type": "code",
   "execution_count": 17,
   "id": "9698d27a",
   "metadata": {},
   "outputs": [
    {
     "data": {
      "text/html": [
       "<img src onerror=\"var cell = this.closest('.jp-CodeCell');var editor = cell.querySelector('.jp-Editor');editor.style.background='lightblue';this.parentNode.removeChild(this)\">"
      ],
      "text/plain": [
       "<IPython.core.display.HTML object>"
      ]
     },
     "metadata": {},
     "output_type": "display_data"
    },
    {
     "data": {
      "text/html": [
       "<div>\n",
       "<style scoped>\n",
       "    .dataframe tbody tr th:only-of-type {\n",
       "        vertical-align: middle;\n",
       "    }\n",
       "\n",
       "    .dataframe tbody tr th {\n",
       "        vertical-align: top;\n",
       "    }\n",
       "\n",
       "    .dataframe thead th {\n",
       "        text-align: right;\n",
       "    }\n",
       "</style>\n",
       "<table border=\"1\" class=\"dataframe\">\n",
       "  <thead>\n",
       "    <tr style=\"text-align: right;\">\n",
       "      <th></th>\n",
       "      <th>Language</th>\n",
       "      <th>Number_of_speakers</th>\n",
       "    </tr>\n",
       "  </thead>\n",
       "  <tbody>\n",
       "    <tr>\n",
       "      <th>22</th>\n",
       "      <td>Navajo</td>\n",
       "      <td>19745</td>\n",
       "    </tr>\n",
       "    <tr>\n",
       "      <th>23</th>\n",
       "      <td>Apache</td>\n",
       "      <td>5700</td>\n",
       "    </tr>\n",
       "    <tr>\n",
       "      <th>26</th>\n",
       "      <td>Hopi</td>\n",
       "      <td>3590</td>\n",
       "    </tr>\n",
       "    <tr>\n",
       "      <th>25</th>\n",
       "      <td>Keres</td>\n",
       "      <td>140</td>\n",
       "    </tr>\n",
       "    <tr>\n",
       "      <th>28</th>\n",
       "      <td>Tewa</td>\n",
       "      <td>110</td>\n",
       "    </tr>\n",
       "    <tr>\n",
       "      <th>29</th>\n",
       "      <td>San Carlos</td>\n",
       "      <td>70</td>\n",
       "    </tr>\n",
       "    <tr>\n",
       "      <th>27</th>\n",
       "      <td>Pima</td>\n",
       "      <td>60</td>\n",
       "    </tr>\n",
       "    <tr>\n",
       "      <th>24</th>\n",
       "      <td>Dakota</td>\n",
       "      <td>50</td>\n",
       "    </tr>\n",
       "  </tbody>\n",
       "</table>\n",
       "</div>"
      ],
      "text/plain": [
       "      Language  Number_of_speakers\n",
       "22      Navajo               19745\n",
       "23      Apache                5700\n",
       "26        Hopi                3590\n",
       "25       Keres                 140\n",
       "28        Tewa                 110\n",
       "29  San Carlos                  70\n",
       "27        Pima                  60\n",
       "24      Dakota                  50"
      ]
     },
     "execution_count": 17,
     "metadata": {},
     "output_type": "execute_result"
    }
   ],
   "source": [
    "bgc('lightblue')\n",
    "language.sort_values('Number_of_speakers', ascending=False)"
   ]
  },
  {
   "cell_type": "markdown",
   "id": "ce7338b7",
   "metadata": {},
   "source": [
    "# Graphical presentation\n",
    "\n",
    "It's helpful and important to present data graphically. The following Python block generates a bar plot for the filtered data set we created earlier. It conveys exactly the same information as the table for `most_spoken`.\n",
    "\n",
    "There's a lot going on in this Python block.  For now, pay attention to the line:\n",
    "\n",
    "`bplot=sns.barplot(x='language', y='mother_tongue', data=most_spoken);`\n",
    "\n",
    "This command indicates:\n",
    "\n",
    "* what to put on the horizonatal axis (x),\n",
    "* what to put on the vertical axis (y), and\n",
    "* where to find the data"
   ]
  },
  {
   "cell_type": "code",
   "execution_count": 18,
   "id": "fe88dc27",
   "metadata": {},
   "outputs": [
    {
     "data": {
      "image/png": "[encoded data removed]",
      "text/plain": [
       "<Figure size 720x360 with 1 Axes>"
      ]
     },
     "metadata": {
      "needs_background": "light"
     },
     "output_type": "display_data"
    }
   ],
   "source": [
    "import seaborn as sns\n",
    "import matplotlib.pyplot as plt\n",
    "plt.figure(figsize=(10,5));\n",
    "bplot=sns.barplot(x='language', y='mother_tongue', data=most_spoken);\n",
    "bplot.set_xticklabels(bplot.get_xticklabels(), rotation=90);"
   ]
  },
  {
   "cell_type": "markdown",
   "id": "bb5fa1e4",
   "metadata": {},
   "source": [
    "## Your turn:\n",
    "\n",
    "Create a bar plot for the number of speakers of native North American languages in Navajo county."
   ]
  },
  {
   "cell_type": "code",
   "execution_count": 19,
   "id": "7b823f0d",
   "metadata": {},
   "outputs": [
    {
     "data": {
      "text/html": [
       "<img src onerror=\"var cell = this.closest('.jp-CodeCell');var editor = cell.querySelector('.jp-Editor');editor.style.background='lightblue';this.parentNode.removeChild(this)\">"
      ],
      "text/plain": [
       "<IPython.core.display.HTML object>"
      ]
     },
     "metadata": {},
     "output_type": "display_data"
    },
    {
     "data": {
      "image/png": "[encoded data removed]",
      "text/plain": [
       "<Figure size 720x360 with 1 Axes>"
      ]
     },
     "metadata": {
      "needs_background": "light"
     },
     "output_type": "display_data"
    }
   ],
   "source": [
    "bgc('lightblue')\n",
    "import seaborn as sns\n",
    "import matplotlib.pyplot as plt\n",
    "plt.figure(figsize=(10,5));\n",
    "bplot=sns.barplot(x='Language', y='Number_of_speakers', data=language);\n",
    "bplot.set_xticklabels(bplot.get_xticklabels(), rotation=90);"
   ]
  },
  {
   "cell_type": "markdown",
   "id": "014a4643",
   "metadata": {},
   "source": [
    "# Interpretation\n",
    "\n",
    "Everything we've done so far is of little value if we don't interpret it.\n",
    "\n",
    "In Canada, by far, the most spoken indigenous language (as a mother tongue) is Cree with about 64,000 speakers.  There are roughly half as many speakers of Inuktitut. After that, the number of speakers decreases rapidly."
   ]
  },
  {
   "cell_type": "markdown",
   "id": "e0448480",
   "metadata": {},
   "source": [
    "## Your turn:\n",
    "\n",
    "Intepret the table and barplot for the number of speakers of a native North American language in Navajo county."
   ]
  },
  {
   "cell_type": "markdown",
   "id": "1a2bcc58-3eec-4794-a61a-bfb9f6100faa",
   "metadata": {},
   "source": [
    "#### Answer:\n",
    "\n",
    "<div class=\"alert alert-block alert-info\"><font color=black>\n",
    "\n",
    "    \n",
    "Answer here...\n",
    "    \n",
    "</font>  \n",
    "</div>"
   ]
  },
  {
   "cell_type": "markdown",
   "id": "79c2bf6f-40c0-4b64-8543-b5792823051c",
   "metadata": {},
   "source": [
    "<div class=\"alert alert-block alert-warning\"><font color=black>\n",
    "\n",
    "Yellow cells are work I did to generate a useable dataframe.  These cells should be deleted in the student version.\n",
    "\n",
    "    \n",
    "</font>  \n",
    "</div>\n",
    "\n"
   ]
  },
  {
   "cell_type": "code",
   "execution_count": null,
   "id": "225344f6-f673-4520-b299-8ddad743b963",
   "metadata": {},
   "outputs": [],
   "source": [
    "bgc('yellow')\n",
    "votetally=pd.read_csv('https://www.dropbox.com/s/ikv451rxsq4t26f/pres_election.csv?dl=1')"
   ]
  },
  {
   "cell_type": "code",
   "execution_count": null,
   "id": "e448e435-d95c-4a7a-86c4-81f3b21e7ff5",
   "metadata": {},
   "outputs": [],
   "source": [
    "bgc('yellow')\n",
    "vote_df=votetally[['year', 'party', 'candidatevotes']].groupby(['year', 'party']).agg(['sum']).reset_index()"
   ]
  },
  {
   "cell_type": "code",
   "execution_count": null,
   "id": "b90fef8e-623c-49e6-825f-a5f9e655ef27",
   "metadata": {},
   "outputs": [],
   "source": [
    "bgc('yellow')\n",
    "vote_df.columns=['year', 'party', 'num_votes']"
   ]
  },
  {
   "cell_type": "code",
   "execution_count": null,
   "id": "fb6a032d-3d64-4c31-b723-a74cbbf51b99",
   "metadata": {},
   "outputs": [],
   "source": [
    "bgc('yellow')\n",
    "vote_df"
   ]
  },
  {
   "cell_type": "markdown",
   "id": "23a08958-9c5e-496f-bafc-ce24e69e5510",
   "metadata": {},
   "source": [
    "#### Homework:\n",
    "\n",
    "The goal of this assignment is to create 5 bar charts, one for each election year, for the number of votes earned by each political party.\n",
    "\n",
    "> Load the `vote_df` data frame from https://github.com/CarlLienert/IntroDataScience.\n",
    "\n",
    "> View a table of this data and note the variables.\n",
    "\n",
    "> Think carefully about the goal of this assignment. Focus on filtering the data one year at a time. Perhaps focus on filtering for the year 2000 first.\n",
    "\n",
    "> From your filtered year data, create a bar chart for the number of votes earned by each political party. Repeat this process for all five election years.\n",
    "\n",
    "The problem and its data are from *Probability, Statistics, and Data: A Fresh Approach using R* (PSDFA) by Speegle and Clair. (https://mathstat.slu.edu/~speegle/_book/)"
   ]
  },
  {
   "cell_type": "code",
   "execution_count": 6,
   "id": "98d36018-a53a-4a8c-a2ef-67923ca62281",
   "metadata": {},
   "outputs": [
    {
     "data": {
      "text/html": [
       "<div>\n",
       "<style scoped>\n",
       "    .dataframe tbody tr th:only-of-type {\n",
       "        vertical-align: middle;\n",
       "    }\n",
       "\n",
       "    .dataframe tbody tr th {\n",
       "        vertical-align: top;\n",
       "    }\n",
       "\n",
       "    .dataframe thead th {\n",
       "        text-align: right;\n",
       "    }\n",
       "</style>\n",
       "<table border=\"1\" class=\"dataframe\">\n",
       "  <thead>\n",
       "    <tr style=\"text-align: right;\">\n",
       "      <th></th>\n",
       "      <th>Unnamed: 0</th>\n",
       "      <th>year</th>\n",
       "      <th>party</th>\n",
       "      <th>num_votes</th>\n",
       "    </tr>\n",
       "  </thead>\n",
       "  <tbody>\n",
       "    <tr>\n",
       "      <th>0</th>\n",
       "      <td>0</td>\n",
       "      <td>2000</td>\n",
       "      <td>democrat</td>\n",
       "      <td>51001968.0</td>\n",
       "    </tr>\n",
       "    <tr>\n",
       "      <th>1</th>\n",
       "      <td>1</td>\n",
       "      <td>2000</td>\n",
       "      <td>green</td>\n",
       "      <td>2882954.0</td>\n",
       "    </tr>\n",
       "    <tr>\n",
       "      <th>2</th>\n",
       "      <td>2</td>\n",
       "      <td>2000</td>\n",
       "      <td>republican</td>\n",
       "      <td>50457896.0</td>\n",
       "    </tr>\n",
       "    <tr>\n",
       "      <th>3</th>\n",
       "      <td>3</td>\n",
       "      <td>2004</td>\n",
       "      <td>democrat</td>\n",
       "      <td>58899063.0</td>\n",
       "    </tr>\n",
       "    <tr>\n",
       "      <th>4</th>\n",
       "      <td>4</td>\n",
       "      <td>2004</td>\n",
       "      <td>republican</td>\n",
       "      <td>61931981.0</td>\n",
       "    </tr>\n",
       "    <tr>\n",
       "      <th>5</th>\n",
       "      <td>5</td>\n",
       "      <td>2008</td>\n",
       "      <td>democrat</td>\n",
       "      <td>69448278.0</td>\n",
       "    </tr>\n",
       "    <tr>\n",
       "      <th>6</th>\n",
       "      <td>6</td>\n",
       "      <td>2008</td>\n",
       "      <td>republican</td>\n",
       "      <td>59928695.0</td>\n",
       "    </tr>\n",
       "    <tr>\n",
       "      <th>7</th>\n",
       "      <td>7</td>\n",
       "      <td>2012</td>\n",
       "      <td>democrat</td>\n",
       "      <td>65778708.0</td>\n",
       "    </tr>\n",
       "    <tr>\n",
       "      <th>8</th>\n",
       "      <td>8</td>\n",
       "      <td>2012</td>\n",
       "      <td>republican</td>\n",
       "      <td>60686102.0</td>\n",
       "    </tr>\n",
       "    <tr>\n",
       "      <th>9</th>\n",
       "      <td>9</td>\n",
       "      <td>2016</td>\n",
       "      <td>democrat</td>\n",
       "      <td>65844241.0</td>\n",
       "    </tr>\n",
       "    <tr>\n",
       "      <th>10</th>\n",
       "      <td>10</td>\n",
       "      <td>2016</td>\n",
       "      <td>republican</td>\n",
       "      <td>62979031.0</td>\n",
       "    </tr>\n",
       "  </tbody>\n",
       "</table>\n",
       "</div>"
      ],
      "text/plain": [
       "    Unnamed: 0  year       party   num_votes\n",
       "0            0  2000    democrat  51001968.0\n",
       "1            1  2000       green   2882954.0\n",
       "2            2  2000  republican  50457896.0\n",
       "3            3  2004    democrat  58899063.0\n",
       "4            4  2004  republican  61931981.0\n",
       "5            5  2008    democrat  69448278.0\n",
       "6            6  2008  republican  59928695.0\n",
       "7            7  2012    democrat  65778708.0\n",
       "8            8  2012  republican  60686102.0\n",
       "9            9  2016    democrat  65844241.0\n",
       "10          10  2016  republican  62979031.0"
      ]
     },
     "execution_count": 6,
     "metadata": {},
     "output_type": "execute_result"
    }
   ],
   "source": [
    "vote_df=pd.read_csv('https://raw.githubusercontent.com/CarlLienert/IntroDataScience/main/vote_df.csv')\n",
    "vote_df"
   ]
  },
  {
   "cell_type": "code",
   "execution_count": 21,
   "id": "5fa0fbd5-d559-442e-b190-7a38c3c34772",
   "metadata": {},
   "outputs": [
    {
     "data": {
      "text/html": [
       "<img src onerror=\"var cell = this.closest('.jp-CodeCell');var editor = cell.querySelector('.jp-Editor');editor.style.background='lightblue';this.parentNode.removeChild(this)\">"
      ],
      "text/plain": [
       "<IPython.core.display.HTML object>"
      ]
     },
     "metadata": {},
     "output_type": "display_data"
    },
    {
     "data": {
      "image/png": "[encoded data removed]",
      "text/plain": [
       "<Figure size 720x360 with 1 Axes>"
      ]
     },
     "metadata": {
      "needs_background": "light"
     },
     "output_type": "display_data"
    }
   ],
   "source": [
    "bgc('lightblue')\n",
    "votes2000=vote_df[vote_df['year']==2000]\n",
    "votes2000[['party', 'num_votes']]\n",
    "import seaborn as sns\n",
    "import matplotlib.pyplot as plt\n",
    "plt.figure(figsize=(10,5));\n",
    "bplot=sns.barplot(x='party', y='num_votes', data=votes2000);\n",
    "bplot.set_xticklabels(bplot.get_xticklabels(), rotation=90);"
   ]
  },
  {
   "cell_type": "code",
   "execution_count": 22,
   "id": "f5663c33-98d8-4773-8f76-f6ae263626ee",
   "metadata": {},
   "outputs": [
    {
     "data": {
      "text/html": [
       "<img src onerror=\"var cell = this.closest('.jp-CodeCell');var editor = cell.querySelector('.jp-Editor');editor.style.background='lightblue';this.parentNode.removeChild(this)\">"
      ],
      "text/plain": [
       "<IPython.core.display.HTML object>"
      ]
     },
     "metadata": {},
     "output_type": "display_data"
    },
    {
     "data": {
      "image/png": "[encoded data removed]",
      "text/plain": [
       "<Figure size 720x360 with 1 Axes>"
      ]
     },
     "metadata": {
      "needs_background": "light"
     },
     "output_type": "display_data"
    }
   ],
   "source": [
    "bgc('lightblue')\n",
    "votes2004=vote_df[vote_df['year']==2004]\n",
    "votes2004[['party', 'num_votes']]\n",
    "import seaborn as sns\n",
    "import matplotlib.pyplot as plt\n",
    "plt.figure(figsize=(10,5));\n",
    "bplot=sns.barplot(x='party', y='num_votes', data=votes2004);\n",
    "bplot.set_xticklabels(bplot.get_xticklabels(), rotation=90);"
   ]
  },
  {
   "cell_type": "code",
   "execution_count": 23,
   "id": "69586678-2a31-407d-a9ab-24eefe7a6e0d",
   "metadata": {},
   "outputs": [
    {
     "data": {
      "text/html": [
       "<img src onerror=\"var cell = this.closest('.jp-CodeCell');var editor = cell.querySelector('.jp-Editor');editor.style.background='lightblue';this.parentNode.removeChild(this)\">"
      ],
      "text/plain": [
       "<IPython.core.display.HTML object>"
      ]
     },
     "metadata": {},
     "output_type": "display_data"
    },
    {
     "data": {
      "image/png": "[encoded data removed]",
      "text/plain": [
       "<Figure size 720x360 with 1 Axes>"
      ]
     },
     "metadata": {
      "needs_background": "light"
     },
     "output_type": "display_data"
    }
   ],
   "source": [
    "bgc('lightblue')\n",
    "votes2008=vote_df[vote_df['year']==2008]\n",
    "votes2008[['party', 'num_votes']]\n",
    "import seaborn as sns\n",
    "import matplotlib.pyplot as plt\n",
    "plt.figure(figsize=(10,5));\n",
    "bplot=sns.barplot(x='party', y='num_votes', data=votes2008);\n",
    "bplot.set_xticklabels(bplot.get_xticklabels(), rotation=90);"
   ]
  },
  {
   "cell_type": "code",
   "execution_count": 24,
   "id": "3dbb8b59-395c-4651-8b52-4388e49ced3f",
   "metadata": {},
   "outputs": [
    {
     "data": {
      "text/html": [
       "<img src onerror=\"var cell = this.closest('.jp-CodeCell');var editor = cell.querySelector('.jp-Editor');editor.style.background='lightblue';this.parentNode.removeChild(this)\">"
      ],
      "text/plain": [
       "<IPython.core.display.HTML object>"
      ]
     },
     "metadata": {},
     "output_type": "display_data"
    },
    {
     "data": {
      "image/png": "[encoded data removed]",
      "text/plain": [
       "<Figure size 720x360 with 1 Axes>"
      ]
     },
     "metadata": {
      "needs_background": "light"
     },
     "output_type": "display_data"
    }
   ],
   "source": [
    "bgc('lightblue')\n",
    "votes2012=vote_df[vote_df['year']==2012]\n",
    "votes2012[['party', 'num_votes']]\n",
    "import seaborn as sns\n",
    "import matplotlib.pyplot as plt\n",
    "plt.figure(figsize=(10,5));\n",
    "bplot=sns.barplot(x='party', y='num_votes', data=votes2012);\n",
    "bplot.set_xticklabels(bplot.get_xticklabels(), rotation=90);"
   ]
  },
  {
   "cell_type": "code",
   "execution_count": 25,
   "id": "6efc4df4-8dd0-4b40-85d2-fe69957e65e9",
   "metadata": {},
   "outputs": [
    {
     "data": {
      "text/html": [
       "<img src onerror=\"var cell = this.closest('.jp-CodeCell');var editor = cell.querySelector('.jp-Editor');editor.style.background='lightblue';this.parentNode.removeChild(this)\">"
      ],
      "text/plain": [
       "<IPython.core.display.HTML object>"
      ]
     },
     "metadata": {},
     "output_type": "display_data"
    },
    {
     "data": {
      "image/png": "[encoded data removed]",
      "text/plain": [
       "<Figure size 720x360 with 1 Axes>"
      ]
     },
     "metadata": {
      "needs_background": "light"
     },
     "output_type": "display_data"
    }
   ],
   "source": [
    "bgc('lightblue')\n",
    "votes2016=vote_df[vote_df['year']==2016]\n",
    "votes2016[['party', 'num_votes']]\n",
    "import seaborn as sns\n",
    "import matplotlib.pyplot as plt\n",
    "plt.figure(figsize=(10,5));\n",
    "bplot=sns.barplot(x='party', y='num_votes', data=votes2016);\n",
    "bplot.set_xticklabels(bplot.get_xticklabels(), rotation=90);"
   ]
  },
  {
   "cell_type": "code",
   "execution_count": null,
   "id": "daa7647c-c981-49d8-8112-f6cf98adbe22",
   "metadata": {},
   "outputs": [],
   "source": []
  }
 ],
 "metadata": {
  "kernelspec": {
   "display_name": "Python 3 (ipykernel)",
   "language": "python",
   "name": "python3"
  },
  "language_info": {
   "codemirror_mode": {
    "name": "ipython",
    "version": 3
   },
   "file_extension": ".py",
   "mimetype": "text/x-python",
   "name": "python",
   "nbconvert_exporter": "python",
   "pygments_lexer": "ipython3",
   "version": "3.9.12"
  }
 },
 "nbformat": 4,
 "nbformat_minor": 5
}
